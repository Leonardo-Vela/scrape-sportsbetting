{
 "cells": [
  {
   "cell_type": "code",
   "execution_count": 1,
   "metadata": {},
   "outputs": [],
   "source": [
    "from selenium import webdriver\n",
    "from selenium.webdriver.chrome.options import Options\n",
    "from selenium.webdriver.common.desired_capabilities import DesiredCapabilities\n",
    "from bs4 import BeautifulSoup\n",
    "import datetime\n",
    "import pandas as pd\n",
    "import time"
   ]
  },
  {
   "cell_type": "code",
   "execution_count": 2,
   "metadata": {},
   "outputs": [],
   "source": [
    "from utils.odds import calc_probs"
   ]
  },
  {
   "cell_type": "code",
   "execution_count": 3,
   "metadata": {},
   "outputs": [],
   "source": [
    "def get_soup(url):\n",
    "    # Configure Chrome options for headless mode\n",
    "    chrome_options = Options()\n",
    "    chrome_options.add_argument('--headless')  # Run Chrome in headless mode\n",
    "    chrome_options.add_argument('--disable-gpu')\n",
    "    chrome_options.add_argument('--no-sandbox')\n",
    "    chrome_options.add_argument('--disable-dev-shm-usage')\n",
    "    chrome_options.add_argument(\"--user-agent=Mozilla/5.0 (Windows NT 10.0; Win64; x64) AppleWebKit/537.36 (KHTML, like Gecko) Chrome/91.0.4472.124 Safari/537.36\")\n",
    "    chrome_options.add_argument(\"--start-maximized\")  # Start in maximized mode\n",
    "    chrome_options.add_argument(\"--disable-blink-features=AutomationControlled\")  # Hide automation\n",
    "    chrome_options.add_argument('--disable-http2')\n",
    "\n",
    "     # Add headers via DesiredCapabilities\n",
    "    caps = DesiredCapabilities.CHROME\n",
    "    caps[\"goog:loggingPrefs\"] = {\"performance\": \"ALL\"}  # Optional: Log network events\n",
    "    caps[\"pageLoadStrategy\"] = \"eager\"  # Speeds up loading by waiting less\n",
    "    chrome_options.headless = False\n",
    "    # Create a new instance of the Chrome WebDriver\n",
    "    driver = webdriver.Chrome(options=chrome_options)\n",
    "    # Navigate to the URL\n",
    "    print(\"Preparing soup ...\")\n",
    "    driver.get(url)\n",
    "    # Retrieve page source code \n",
    "    page_source = driver.page_source\n",
    "    # Parse the page source using BeautifulSoup\n",
    "    soup = BeautifulSoup(page_source, 'html.parser')\n",
    "    driver.quit()\n",
    "    return soup "
   ]
  },
  {
   "cell_type": "code",
   "execution_count": 4,
   "metadata": {},
   "outputs": [],
   "source": [
    "def extract_snapshot(soup):\n",
    "    # Get all \"live\" Event <a><a> elements\n",
    "    event_tags = []\n",
    "    try:\n",
    "        live_events = soup.select_one('div.Program-styles-module-desktop')\n",
    "        event_tags = live_events.select('a.EventRow-styles-module-event-row')\n",
    "    except:\n",
    "        pass\n",
    "    print(\"Tasting soup ...\")\n",
    "    # Extract text content from each anchor tag\n",
    "    # match time: xth minute\n",
    "    # event name: \"team A_versus_team B\"\n",
    "    # timestamp: \n",
    "    # odds: \n",
    "    # probabilities:\n",
    "    # score:\n",
    "    #columns = ['primary_key', 'name_team_A', 'name_team_B', 'gametime', 'score_team_A', 'score_team_B', 'odd_win_team_A', 'odd_draw', 'odd_win_team_B']\n",
    "    data = []\n",
    "    #print(event_tags)\n",
    "    \n",
    "    if len(event_tags) != 0:\n",
    "        for event in event_tags:\n",
    "            #print(\"test\")\n",
    "            try:\n",
    "                team_names= event.select('span.EventTeams-styles-module-team-title')\n",
    "                #print(team_names)\n",
    "                score_tags = event.select_one('div.EventScores-styles-module-scores')\n",
    "                score_list = [char for char in [score.get_text(strip=True) for score in  score_tags][-1]]\n",
    "                team_names_list = [name.get_text(strip=True) for name in  team_names]\n",
    "                event_id = str.replace(team_names_list[0] + \"_versus_\" + team_names_list[1], \" \", \"_\")\n",
    "                # Get current date and time\n",
    "                current_datetime = datetime.datetime.now()\n",
    "                current_date = datetime.date.today()\n",
    "                current_time = datetime.datetime.now().time().strftime(\"%H:%M:%S\")\n",
    "                # Format the current datetime as a string\n",
    "                datetime_string = current_datetime.strftime(\"%Y-%m-%d %H:%M:%S\")\n",
    "                snapshot_id = event_id + \"_time_\" + datetime_string \n",
    "                #if len(event.select('div.EventDateTime-styles-module-live-date'))> 0:\n",
    "                game_time_tag = event.select_one('div.EventDateTime-styles-module-info-cell-live')\n",
    "                #print(game_time_tag)\n",
    "                game_time = [game_time.get_text(strip=True) for game_time in  game_time_tag][0]\n",
    "                #else\n",
    "                odd_tags = event.select('div.EventOddGroup-styles-module-odd-group')\n",
    "                odds_list = [1.0 if x == \"\" else float(x.replace(\",\",\".\")) for x in [odd.get_text(strip=True) for odd in  odd_tags[0]]]\n",
    "                #print(odds_list)\n",
    "                probs_list = calc_probs(odds_list)\n",
    "                #print(probs_list)\n",
    "                \n",
    "                row_data = {\n",
    "                    'primary_key': snapshot_id,\n",
    "                    'match_key': event_id,\n",
    "                    'date': current_date,\n",
    "                    'time_of_day': current_time,\n",
    "                    'name_team_A': team_names_list[0],\n",
    "                    'name_team_B': team_names_list[1],\n",
    "                    'gametime': game_time,\n",
    "                    'score_team_A': score_list[0],\n",
    "                    'score_team_B': score_list[1],\n",
    "                    'odd_win_team_A': odds_list[0],\n",
    "                    'odd_draw': odds_list[1],\n",
    "                    'odd_win_team_B': odds_list[2],\n",
    "                    'prob_win_team_A': probs_list[0],\n",
    "                    'prob_draw': probs_list[1],\n",
    "                    'prob_win_team_B': probs_list[2],\n",
    "                    }\n",
    "                #print(row_data)\n",
    "                \n",
    "                data.append(row_data)\n",
    "                \n",
    "            except:\n",
    "                pass\n",
    "\n",
    "    df = pd.DataFrame(data)\n",
    "    return df"
   ]
  },
  {
   "cell_type": "code",
   "execution_count": 5,
   "metadata": {},
   "outputs": [
    {
     "name": "stdout",
     "output_type": "stream",
     "text": [
      "Preparing soup ...\n",
      "Preparing soup ...\n",
      "Tasting soup ...\n",
      "Preparing soup ...\n",
      "Tasting soup ...\n"
     ]
    },
    {
     "ename": "KeyboardInterrupt",
     "evalue": "",
     "output_type": "error",
     "traceback": [
      "\u001b[0;31m---------------------------------------------------------------------------\u001b[0m",
      "\u001b[0;31mKeyboardInterrupt\u001b[0m                         Traceback (most recent call last)",
      "Cell \u001b[0;32mIn[5], line 23\u001b[0m\n\u001b[1;32m     21\u001b[0m     scraped_data\u001b[38;5;241m.\u001b[39mappend(snapshot_data)\n\u001b[1;32m     22\u001b[0m     \u001b[38;5;66;03m# Sleep for a certain interval before the next iteration\u001b[39;00m\n\u001b[0;32m---> 23\u001b[0m     \u001b[43mtime\u001b[49m\u001b[38;5;241;43m.\u001b[39;49m\u001b[43msleep\u001b[49m\u001b[43m(\u001b[49m\u001b[38;5;241;43m10\u001b[39;49m\u001b[43m)\u001b[49m  \u001b[38;5;66;03m# Sleep for 10 seconds between iterations\u001b[39;00m\n\u001b[1;32m     25\u001b[0m \u001b[38;5;66;03m# Close the web driver\u001b[39;00m\n\u001b[1;32m     26\u001b[0m \n\u001b[1;32m     27\u001b[0m \u001b[38;5;66;03m# Convert the scraped data to a pandas DataFrame\u001b[39;00m\n\u001b[1;32m     28\u001b[0m \u001b[38;5;66;03m#df = pd.DataFrame(scraped_data)\u001b[39;00m\n\u001b[1;32m     30\u001b[0m op_df \u001b[38;5;241m=\u001b[39m pd\u001b[38;5;241m.\u001b[39mconcat(scraped_data, ignore_index\u001b[38;5;241m=\u001b[39m\u001b[38;5;28;01mTrue\u001b[39;00m)\n",
      "\u001b[0;31mKeyboardInterrupt\u001b[0m: "
     ]
    }
   ],
   "source": [
    "url = \"https://sports.tipico.de/de/live/default\"\n",
    "\n",
    "soup = get_soup(url)\n",
    "\n",
    "scraped_data = []\n",
    "\n",
    "# Define the duration for which you want the script to run (in seconds)\n",
    "duration =   30 # Run for 1 hour (adjust as needed)\n",
    "\n",
    "# Start time\n",
    "start_time = time.time()\n",
    "\n",
    "# Main loop to scrape data\n",
    "while time.time() - start_time < duration:\n",
    "    # Your scraping logic here\n",
    "    # For example, navigate to a webpage and scrape its content\n",
    "    soup = get_soup(url)\n",
    "    # Scraping code...\n",
    "    # Store the scraped data in a dictionary or list\n",
    "    snapshot_data = extract_snapshot(soup)\n",
    "    scraped_data.append(snapshot_data)\n",
    "    # Sleep for a certain interval before the next iteration\n",
    "    time.sleep(10)  # Sleep for 10 seconds between iterations\n",
    "\n",
    "# Close the web driver\n",
    "\n",
    "# Convert the scraped data to a pandas DataFrame\n",
    "#df = pd.DataFrame(scraped_data)\n",
    "\n",
    "op_df = pd.concat(scraped_data, ignore_index=True)\n",
    "\n",
    "print(op_df)\n",
    "\n",
    "# Save the DataFrame to a CSV file\n",
    "\n",
    "op_df.to_csv('scraped_data.csv', index=False)\n",
    "\n",
    "\n"
   ]
  },
  {
   "cell_type": "code",
   "execution_count": 36,
   "metadata": {},
   "outputs": [
    {
     "name": "stdout",
     "output_type": "stream",
     "text": [
      "[Empty DataFrame\n",
      "Columns: []\n",
      "Index: [], Empty DataFrame\n",
      "Columns: []\n",
      "Index: []]\n"
     ]
    }
   ],
   "source": [
    "print(op_df)"
   ]
  },
  {
   "cell_type": "code",
   "execution_count": null,
   "metadata": {},
   "outputs": [],
   "source": []
  }
 ],
 "metadata": {
  "kernelspec": {
   "display_name": "Python 3",
   "language": "python",
   "name": "python3"
  },
  "language_info": {
   "codemirror_mode": {
    "name": "ipython",
    "version": 3
   },
   "file_extension": ".py",
   "mimetype": "text/x-python",
   "name": "python",
   "nbconvert_exporter": "python",
   "pygments_lexer": "ipython3",
   "version": "3.11.0"
  }
 },
 "nbformat": 4,
 "nbformat_minor": 2
}
